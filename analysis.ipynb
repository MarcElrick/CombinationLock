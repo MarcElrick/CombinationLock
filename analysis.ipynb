{
 "cells": [
  {
   "cell_type": "markdown",
   "metadata": {},
   "source": [
    "## Data Analysis\n",
    "\n",
    "This notebook will be used to analyse data from Combination Lock experiments.\n"
   ]
  },
  {
   "cell_type": "markdown",
   "metadata": {},
   "source": [
    "### Install Libraries\n"
   ]
  },
  {
   "cell_type": "code",
   "execution_count": 49,
   "metadata": {},
   "outputs": [
    {
     "name": "stdout",
     "output_type": "stream",
     "text": [
      "Requirement already satisfied: matplotlib in /home/marcelrick/python-envs/msci-data-analysis/lib/python3.9/site-packages (3.5.1)\n",
      "Requirement already satisfied: kiwisolver>=1.0.1 in /home/marcelrick/python-envs/msci-data-analysis/lib/python3.9/site-packages (from matplotlib) (1.3.2)\n",
      "Requirement already satisfied: numpy>=1.17 in /home/marcelrick/python-envs/msci-data-analysis/lib/python3.9/site-packages (from matplotlib) (1.22.1)\n",
      "Requirement already satisfied: fonttools>=4.22.0 in /home/marcelrick/python-envs/msci-data-analysis/lib/python3.9/site-packages (from matplotlib) (4.29.0)\n",
      "Requirement already satisfied: packaging>=20.0 in /home/marcelrick/python-envs/msci-data-analysis/lib/python3.9/site-packages (from matplotlib) (21.3)\n",
      "Requirement already satisfied: pyparsing>=2.2.1 in /home/marcelrick/python-envs/msci-data-analysis/lib/python3.9/site-packages (from matplotlib) (3.0.7)\n",
      "Requirement already satisfied: cycler>=0.10 in /home/marcelrick/python-envs/msci-data-analysis/lib/python3.9/site-packages (from matplotlib) (0.11.0)\n",
      "Requirement already satisfied: pillow>=6.2.0 in /home/marcelrick/python-envs/msci-data-analysis/lib/python3.9/site-packages (from matplotlib) (9.0.0)\n",
      "Requirement already satisfied: python-dateutil>=2.7 in /home/marcelrick/python-envs/msci-data-analysis/lib/python3.9/site-packages (from matplotlib) (2.8.2)\n",
      "Requirement already satisfied: six>=1.5 in /home/marcelrick/python-envs/msci-data-analysis/lib/python3.9/site-packages (from python-dateutil>=2.7->matplotlib) (1.16.0)\n",
      "Note: you may need to restart the kernel to use updated packages.\n",
      "Requirement already satisfied: pandas in /home/marcelrick/python-envs/msci-data-analysis/lib/python3.9/site-packages (1.4.1)\n",
      "Requirement already satisfied: statsmodels in /home/marcelrick/python-envs/msci-data-analysis/lib/python3.9/site-packages (0.13.2)\n",
      "Requirement already satisfied: pytz>=2020.1 in /home/marcelrick/python-envs/msci-data-analysis/lib/python3.9/site-packages (from pandas) (2021.3)\n",
      "Requirement already satisfied: python-dateutil>=2.8.1 in /home/marcelrick/python-envs/msci-data-analysis/lib/python3.9/site-packages (from pandas) (2.8.2)\n",
      "Requirement already satisfied: numpy>=1.18.5 in /home/marcelrick/python-envs/msci-data-analysis/lib/python3.9/site-packages (from pandas) (1.22.1)\n",
      "Requirement already satisfied: six>=1.5 in /home/marcelrick/python-envs/msci-data-analysis/lib/python3.9/site-packages (from python-dateutil>=2.8.1->pandas) (1.16.0)\n",
      "Requirement already satisfied: patsy>=0.5.2 in /home/marcelrick/python-envs/msci-data-analysis/lib/python3.9/site-packages (from statsmodels) (0.5.2)\n",
      "Requirement already satisfied: packaging>=21.3 in /home/marcelrick/python-envs/msci-data-analysis/lib/python3.9/site-packages (from statsmodels) (21.3)\n",
      "Requirement already satisfied: scipy>=1.3 in /home/marcelrick/python-envs/msci-data-analysis/lib/python3.9/site-packages (from statsmodels) (1.8.0)\n",
      "Requirement already satisfied: pyparsing!=3.0.5,>=2.0.2 in /home/marcelrick/python-envs/msci-data-analysis/lib/python3.9/site-packages (from packaging>=21.3->statsmodels) (3.0.7)\n",
      "Note: you may need to restart the kernel to use updated packages.\n"
     ]
    }
   ],
   "source": [
    "from statsmodels.stats.anova import AnovaRM\n",
    "import pandas as pd\n",
    "import matplotlib as mpl\n",
    "from scipy.stats import f_oneway\n",
    "import matplotlib.pyplot as plt\n",
    "import glob\n",
    "import json\n",
    "from statistics import median, stdev\n",
    "\n",
    "%pip install matplotlib\n",
    "%pip install pandas statsmodels\n",
    "%matplotlib inline\n"
   ]
  },
  {
   "cell_type": "markdown",
   "metadata": {},
   "source": [
    "### Read in Files\n"
   ]
  },
  {
   "cell_type": "code",
   "execution_count": 50,
   "metadata": {},
   "outputs": [],
   "source": [
    "log_dir = './docs/evaluation-logs/*'\n",
    "filepaths = glob.glob(log_dir)\n",
    "\n",
    "files = []\n",
    "\n",
    "for path in filepaths:\n",
    "    with open(path) as f:\n",
    "        files.append(json.load(f)['data'])\n"
   ]
  },
  {
   "cell_type": "markdown",
   "metadata": {},
   "source": [
    "### Extract Data Across Participants into Single Dict\n"
   ]
  },
  {
   "cell_type": "code",
   "execution_count": 51,
   "metadata": {},
   "outputs": [
    {
     "name": "stdout",
     "output_type": "stream",
     "text": [
      "108\n"
     ]
    }
   ],
   "source": [
    "fullDict = {}\n",
    "\n",
    "for i in range(0, len(files)):\n",
    "\n",
    "    for key in files[i]:\n",
    "        for auth in files[i][key]:\n",
    "            auth['participantNo'] = i\n",
    "\n",
    "for f in files:\n",
    "    fullDict = fullDict | f\n",
    "\n",
    "print(len(fullDict))\n"
   ]
  },
  {
   "cell_type": "markdown",
   "metadata": {},
   "source": [
    "### Traverse entire dataset, adding each list to the appropraite method list\n"
   ]
  },
  {
   "cell_type": "code",
   "execution_count": 52,
   "metadata": {},
   "outputs": [],
   "source": [
    "methodsDict = {'tap6': [], 'tap10': [], 'direction6': [],\n",
    "               'direction10': [], 'pin': [], 'pattern': []}\n",
    "\n",
    "for key in fullDict.keys():\n",
    "    method = fullDict[key][0]['method']\n",
    "    numTicks = fullDict[key][0]['numTicks']\n",
    "\n",
    "    if method == 'tap':\n",
    "        if numTicks == '6':\n",
    "            methodsDict['tap6'] += fullDict[key]\n",
    "        else:\n",
    "            methodsDict['tap10'] += fullDict[key]\n",
    "    elif method == 'direction':\n",
    "        if numTicks == '6':\n",
    "            methodsDict['direction6'] += fullDict[key]\n",
    "        else:\n",
    "            methodsDict['direction10'] += fullDict[key]\n",
    "    elif method == 'PATTERN':\n",
    "        methodsDict['pattern'] += fullDict[key]\n",
    "    elif method == 'PIN':\n",
    "        methodsDict['pin'] += fullDict[key]\n",
    "\n",
    "# Remove Abortions\n",
    "for key in methodsDict:\n",
    "    methodsDict[key] = list(\n",
    "        filter(lambda x: x['endState'] != 'ABORTED', methodsDict[key]))\n"
   ]
  },
  {
   "cell_type": "markdown",
   "metadata": {},
   "source": [
    "### Graph Average Error Rate For Each Method\n"
   ]
  },
  {
   "cell_type": "code",
   "execution_count": 53,
   "metadata": {},
   "outputs": [
    {
     "name": "stdout",
     "output_type": "stream",
     "text": [
      "{'tap6': 2.691105224025861, 'tap10': 6.142737811640878, 'direction6': 18.61163276716999, 'direction10': 11.799290794050975, 'pin': 3.95464299301212, 'pattern': 10.409629771373082}\n"
     ]
    },
    {
     "data": {
      "image/png": "[encoded data removed]",
      "text/plain": [
       "<Figure size 504x360 with 1 Axes>"
      ]
     },
     "metadata": {
      "needs_background": "light"
     },
     "output_type": "display_data"
    }
   ],
   "source": [
    "errorRates = []\n",
    "\n",
    "\n",
    "def computeErrorRate(lst):\n",
    "    errors = len(list(filter(lambda x: x['endState'] == 'FAILURE', lst)))\n",
    "    return (errors / len(lst)) * 100\n",
    "\n",
    "\n",
    "for i in range(0, len(files)):\n",
    "    errorRates.append({})\n",
    "\n",
    "for i in range(0, len(files)):\n",
    "    for method in methodsDict:\n",
    "        errorRates[i][method] = computeErrorRate(\n",
    "            list(filter(lambda x: x['participantNo'] == i, methodsDict[method])))\n",
    "\n",
    "# Get dict with lists with all error rates.\n",
    "errs_aggregated = {}\n",
    "for method in ['tap6', 'tap10', 'direction6', 'direction10', 'pin', 'pattern']:\n",
    "    errs_aggregated[method] = []\n",
    "    for dic in errorRates:\n",
    "        errs_aggregated[method].append(dic[method])\n",
    "\n",
    "# Create dicts that map to median and standard deviation.\n",
    "errs_aggregated_med = errs_aggregated.copy()\n",
    "errs_aggregated_dev = errs_aggregated.copy()\n",
    "for key in errs_aggregated:\n",
    "    errs_aggregated_med[key] = median(errs_aggregated[key])\n",
    "    errs_aggregated_dev[key] = stdev(errs_aggregated[key])\n",
    "print(errs_aggregated_dev)\n",
    "\n",
    "x = list(errs_aggregated_med.keys())\n",
    "y = list(errs_aggregated_med.values())\n",
    "\n",
    "fig, ax = plt.subplots(figsize=(7, 5))\n",
    "ax.set_ylabel('Error (%)')\n",
    "ax.set_xlabel('Condition')\n",
    "\n",
    "rects = ax.bar(x, y, 0.5)\n",
    "for rect in rects:\n",
    "    height = rect.get_height()\n",
    "    ax.text(rect.get_x() + rect.get_width()/2., 1.01*height, '%d' %\n",
    "            round(height),  ha='center', va='bottom', color='blue', fontweight='bold')\n"
   ]
  },
  {
   "cell_type": "markdown",
   "metadata": {},
   "source": [
    "#### Repeated Measures ANOVA on Error Rates"
   ]
  },
  {
   "cell_type": "code",
   "execution_count": 54,
   "metadata": {},
   "outputs": [
    {
     "name": "stdout",
     "output_type": "stream",
     "text": [
      "               Anova\n",
      "====================================\n",
      "       F Value Num DF  Den DF Pr > F\n",
      "------------------------------------\n",
      "method 27.9922 5.0000 85.0000 0.0000\n",
      "====================================\n",
      "\n"
     ]
    }
   ],
   "source": [
    "fileTable = []\n",
    "for method in errs_aggregated:\n",
    "    for index, value in enumerate(errs_aggregated[method]):\n",
    "        fileTable.append([index, method, value])\n",
    "\n",
    "df = pd.DataFrame(fileTable, columns = ['participant', 'method', 'errorRate'])\n",
    "print(AnovaRM(df,'errorRate',subject='participant', within=['method']).fit())"
   ]
  },
  {
   "cell_type": "markdown",
   "metadata": {},
   "source": [
    "### Graph Average Authentication Time for Successful Sessions\n"
   ]
  },
  {
   "cell_type": "code",
   "execution_count": 55,
   "metadata": {},
   "outputs": [
    {
     "name": "stdout",
     "output_type": "stream",
     "text": [
      "{'tap6': 7209.5, 'tap10': 7026, 'direction6': 9123, 'direction10': 10731, 'pin': 1315, 'pattern': 1802}\n",
      "{'tap6': 2416.6960590760928, 'tap10': 3194.011206086757, 'direction6': 3998.7315295771564, 'direction10': 4597.9556506372555, 'pin': 837.4006960618999, 'pattern': 1110.0238634136242}\n"
     ]
    },
    {
     "data": {
      "image/png": "[encoded data removed]",
      "text/plain": [
       "<Figure size 504x432 with 1 Axes>"
      ]
     },
     "metadata": {
      "needs_background": "light"
     },
     "output_type": "display_data"
    }
   ],
   "source": [
    "def computeAverageSuccessTime(lst):\n",
    "    successfulAuths = list(filter(lambda x: x['endState'] == 'SUCCESS', lst))\n",
    "    total = []\n",
    "    for val in lst:\n",
    "        total.append(val['elapsedTimeInMilliseconds'])\n",
    "    return (median(total), stdev(total))\n",
    "\n",
    "authTimes = {}\n",
    "deviations = {}\n",
    "for method in methodsDict:\n",
    "    authTimes[method],deviations[method] = computeAverageSuccessTime(methodsDict[method])\n",
    "\n",
    "print(authTimes)\n",
    "print(deviations)\n",
    "\n",
    "fig, ax = plt.subplots(figsize=(7, 6))\n",
    "ax.set_ylabel('Authentication Time (ms)')\n",
    "ax.set_xlabel('Condition')\n",
    "ax.set_title('Average Duration of Successful Authentication')\n",
    "\n",
    "x = list(authTimes.keys())\n",
    "y = list(authTimes.values())\n",
    "rects = ax.bar(x, y, 0.5)\n",
    "\n",
    "for rect in rects:\n",
    "    height = rect.get_height()\n",
    "    ax.text(rect.get_x() + rect.get_width()/2., 1.01*height, '%d' %\n",
    "            round(height),  ha='center', va='bottom', color='blue', fontweight='bold')\n"
   ]
  },
  {
   "cell_type": "code",
   "execution_count": 56,
   "metadata": {},
   "outputs": [],
   "source": [
    "# def computeAverageSuccessTime(lst):\n",
    "#     successfulAuths = list(filter(lambda x: x['endState'] == 'SUCCESS', lst))\n",
    "#     total = []\n",
    "#     for val in lst:\n",
    "#         total.append(val['elapsedTimeInMilliseconds'])\n",
    "#     return median(total)\n",
    "\n",
    "\n",
    "# successRates = {}\n",
    "# for method in methodsDict:\n",
    "#     successRates[method] = computeAverageSuccessTime(methodsDict[method])\n",
    "\n",
    "# fig, ax = plt.subplots(figsize=(7, 6))\n",
    "# ax.set_ylabel('Authentication Time (ms)')\n",
    "# ax.set_xlabel('Condition')\n",
    "# ax.set_title('Average Duration of Successful Authentication')\n",
    "\n",
    "# x = list(successRates.keys())\n",
    "# y = list(successRates.values())\n",
    "# rects = ax.bar(x, y, 0.5)\n",
    "\n",
    "# for rect in rects:\n",
    "#     height = rect.get_height()\n",
    "#     ax.text(rect.get_x() + rect.get_width()/2., 1.01*height, '%d' %\n",
    "#             round(height),  ha='center', va='bottom', color='blue', fontweight='bold')\n"
   ]
  },
  {
   "cell_type": "markdown",
   "metadata": {},
   "source": [
    "### Time Distribution\n"
   ]
  },
  {
   "cell_type": "code",
   "execution_count": 57,
   "metadata": {},
   "outputs": [
    {
     "data": {
      "image/png": "[encoded data removed]",
      "text/plain": [
       "<Figure size 1440x720 with 6 Axes>"
      ]
     },
     "metadata": {
      "needs_background": "light"
     },
     "output_type": "display_data"
    }
   ],
   "source": [
    "successfulAuths = methodsDict.copy()\n",
    "\n",
    "for item in successfulAuths:\n",
    "    successfulAuths[item] = list(\n",
    "        filter(lambda x: x['endState'] == 'SUCCESS', successfulAuths[item]))\n",
    "successfulAuthsTimeList = list(map(lambda x: {x: list(map(\n",
    "    lambda y: y['elapsedTimeInMilliseconds'], successfulAuths[x]))}, successfulAuths))\n",
    "\n",
    "fig, axs = plt.subplots(2, 3, sharey=True, figsize=(20, 10))\n",
    "fig.suptitle('Distribution of Authentication Times for Each Method')\n",
    "\n",
    "n_bins = 25\n",
    "\n",
    "\n",
    "for i in range(0, 2):\n",
    "    for j in range(0, 3):\n",
    "        axs[i, j].hist(successfulAuthsTimeList[3*i+j].values(), bins=n_bins)\n",
    "        axs[i, j].set_title(list(successfulAuthsTimeList[3*i+j].keys())[0])\n",
    "        axs[i, j].set_xlabel('Time to Authenticate (ms)')\n",
    "        axs[i, j].set_ylabel('Number of Participants')\n"
   ]
  },
  {
   "cell_type": "markdown",
   "metadata": {},
   "source": [
    "### Statistical Tests - Repeated Measures One-Way ANOVA\n"
   ]
  },
  {
   "cell_type": "code",
   "execution_count": 58,
   "metadata": {},
   "outputs": [
    {
     "name": "stdout",
     "output_type": "stream",
     "text": [
      "REPEATED MEASURES ANOVA ON AUTHENTICATION TIME:\n",
      "\n",
      "                Anova\n",
      "=====================================\n",
      "       F Value  Num DF  Den DF Pr > F\n",
      "-------------------------------------\n",
      "method 140.5877 5.0000 85.0000 0.0000\n",
      "=====================================\n",
      "\n"
     ]
    }
   ],
   "source": [
    "# Parses files and puts data in a format for statistical tests\n",
    "def getMethod(auth):\n",
    "    if auth['method'] == 'tap':\n",
    "        if auth['numTicks'] == '6':\n",
    "            return 'tap6'\n",
    "        else:\n",
    "            return 'tap10'\n",
    "    elif auth['method'] == 'direction':\n",
    "        if auth['numTicks'] == '6':\n",
    "            return 'direction6'\n",
    "        else:\n",
    "            return 'direction10'\n",
    "    elif auth['method'] == 'PATTERN':\n",
    "        return 'pattern'\n",
    "    elif auth['method'] == 'PIN':\n",
    "        return 'PIN'\n",
    "\n",
    "\n",
    "def fileToTable(i, f, end=None):\n",
    "    totalRows = []\n",
    "    for key in f:\n",
    "        for auth in f[key]:\n",
    "            if auth['endState'] != 'ABORTED':\n",
    "                if end == None:\n",
    "                    totalRows.append(\n",
    "                        [i, getMethod(auth), auth['elapsedTimeInMilliseconds'], auth['endState'], 'null'])\n",
    "                elif auth['endState'] == end:\n",
    "                    totalRows.append(\n",
    "                        [i, getMethod(auth), auth['elapsedTimeInMilliseconds'], auth['endState'], 'null'])\n",
    "    return totalRows\n",
    "\n",
    "\n",
    "def createFileTable(end=None):\n",
    "    fileTable = [['participant', 'method',\n",
    "                  'elapsedTimeInMilliseconds', 'endState', 'errors']]\n",
    "    for index, file in enumerate(files):\n",
    "        fileTable += fileToTable(index, file, end)\n",
    "    return fileTable\n",
    "\n",
    "\n",
    "totalFileTable = createFileTable()\n",
    "successFileTable = createFileTable(end='SUCCESS')\n",
    "failureFileTable = createFileTable(end='FAILURE')\n",
    "\n",
    "\n",
    "def createTempFileFromTable(fileName, table):\n",
    "    with open(fileName, 'w') as f:\n",
    "        for line in table:\n",
    "            f.write(','.join([str(line[0]), line[1], str(\n",
    "                line[2]), str(line[3]), str(line[4]), '\\n']))\n",
    "\n",
    "createTempFileFromTable('successTemp.csv', successFileTable)\n",
    "\n",
    "df = pd.read_csv('successTemp.csv')\n",
    "print('REPEATED MEASURES ANOVA ON AUTHENTICATION TIME:\\n')\n",
    "print(AnovaRM(df, 'elapsedTimeInMilliseconds', 'participant',\n",
    "      within=['method'], aggregate_func=median).fit())"
   ]
  },
  {
   "cell_type": "markdown",
   "metadata": {},
   "source": [
    "# User Perception\n"
   ]
  },
  {
   "cell_type": "code",
   "execution_count": 59,
   "metadata": {},
   "outputs": [
    {
     "name": "stdout",
     "output_type": "stream",
     "text": [
      "PIN = 0.2581988897471611, Pattern = 0.4140393356054125, Combination - Tap - 6 = 0.7367883976130073, Combination - Tap - 10 = 1.0555973258234952, Combination - Direction - 6 = 1.3870146083619754, Combination - Direction - 10 = 1.3020130933435712, \n",
      " ====================================================\n",
      " ====================================================\n",
      " ====================================================\n",
      "PIN = 1.245945806357946, Pattern = 1.0600988273786194, Combination - Tap - 6 = 0.9856107606091623, Combination - Tap - 10 = 1.2649110640673518, Combination - Direction - 6 = 1.5796322658258457, Combination - Direction - 10 = 1.6761634196950517, \n",
      " ====================================================\n",
      " ====================================================\n",
      " ====================================================\n",
      "PIN = 0.45773770821706344, Pattern = 0.828078671210825, Combination - Tap - 6 = 1.1832159566199232, Combination - Tap - 10 = 1.486446705914413, Combination - Direction - 6 = 1.6676187756655838, Combination - Direction - 10 = 1.4540583599999397, \n",
      " ====================================================\n",
      " ====================================================\n",
      " ====================================================\n",
      "PIN = 0.8837151016885368, Pattern = 1.5522640914238175, Combination - Tap - 6 = 1.88477610139267, Combination - Tap - 10 = 2.051712409068047, Combination - Direction - 6 = 1.6818357317441643, Combination - Direction - 10 = 1.8439088914585775, \n",
      " ====================================================\n",
      " ====================================================\n",
      " ====================================================\n",
      "PIN = 1.3345232785352157, Pattern = 1.61245154965971, Combination - Tap - 6 = 1.1464230084422218, Combination - Tap - 10 = 1.5675276256394517, Combination - Direction - 6 = 1.6987390281365427, Combination - Direction - 10 = 1.3451854182690985, \n",
      " ====================================================\n",
      " ====================================================\n",
      " ====================================================\n",
      "PIN = 1.5430334996209192, Pattern = 1.162919151265879, Combination - Tap - 6 = 1.0465362369445672, Combination - Tap - 10 = 1.1872336794093274, Combination - Direction - 6 = 1.2798809468443688, Combination - Direction - 10 = 1.424279266355945, \n",
      " ====================================================\n",
      " ====================================================\n",
      " ====================================================\n",
      "PIN = 1.709915063331955, Pattern = 1.65615734242165, Combination - Tap - 6 = 1.4573295865416045, Combination - Tap - 10 = 1.5491933384829668, Combination - Direction - 6 = 1.3522468075656264, Combination - Direction - 10 = 1.647508942095828, \n",
      " ====================================================\n",
      " ====================================================\n",
      " ====================================================\n"
     ]
    },
    {
     "data": {
      "image/png": "[encoded data removed]",
      "text/plain": [
       "<Figure size 1440x1440 with 9 Axes>"
      ]
     },
     "metadata": {
      "needs_background": "light"
     },
     "output_type": "display_data"
    }
   ],
   "source": [
    "\n",
    "perception_dict = [{'Combination - Tap - 6': [], 'Combination - Tap - 10':[], 'Combination - Direction - 6':[], 'Combination - Direction - 10':[], 'PIN':[], 'Pattern':[]}, \n",
    "                   {'Combination - Tap - 6': [], 'Combination - Tap - 10':[], 'Combination - Direction - 6':[], 'Combination - Direction - 10':[], 'PIN':[], 'Pattern':[]},\n",
    "                   {'Combination - Tap - 6': [], 'Combination - Tap - 10':[], 'Combination - Direction - 6':[], 'Combination - Direction - 10':[], 'PIN':[], 'Pattern':[]},\n",
    "                   {'Combination - Tap - 6': [], 'Combination - Tap - 10':[], 'Combination - Direction - 6':[], 'Combination - Direction - 10':[], 'PIN':[], 'Pattern':[]},\n",
    "                   {'Combination - Tap - 6': [], 'Combination - Tap - 10':[], 'Combination - Direction - 6':[], 'Combination - Direction - 10':[], 'PIN':[], 'Pattern':[]},\n",
    "                   {'Combination - Tap - 6': [], 'Combination - Tap - 10':[], 'Combination - Direction - 6':[], 'Combination - Direction - 10':[], 'PIN':[], 'Pattern':[]},\n",
    "                   {'Combination - Tap - 6': [], 'Combination - Tap - 10':[], 'Combination - Direction - 6':[], 'Combination - Direction - 10':[], 'PIN':[], 'Pattern':[]}]\n",
    "\n",
    "with open('docs/user_perception.csv') as f:\n",
    "    f.readline()\n",
    "    for line in f:\n",
    "        line = line.split(',')[1:]\n",
    "        perception_dict[0][line[0]].append(int(line[1]))\n",
    "        perception_dict[1][line[0]].append(int(line[2]))\n",
    "        perception_dict[2][line[0]].append(int(line[3]))\n",
    "        perception_dict[3][line[0]].append(int(line[4]))\n",
    "        perception_dict[4][line[0]].append(int(line[5]))\n",
    "        perception_dict[5][line[0]].append(int(line[6]))\n",
    "        perception_dict[6][line[0]].append(int(line[8]))\n",
    "\n",
    "def get_std_deviations(method, axis):\n",
    "    valueList = []\n",
    "    with open('docs/user_perception.csv') as f:\n",
    "        for line in f:\n",
    "            line = line.split(',')[1:]\n",
    "            if line[0] == method:\n",
    "                valueList.append(int(line[axis]))\n",
    "    return stdev(valueList)\n",
    "\n",
    "\n",
    "\n",
    "for dic in perception_dict:\n",
    "    for key in dic:\n",
    "        dic[key] = median(dic[key])\n",
    "    \n",
    "    dic['tap6'] = dic.pop('Combination - Tap - 6')\n",
    "    dic['tap10'] = dic.pop('Combination - Tap - 10')\n",
    "    dic['direction6'] = dic.pop('Combination - Direction - 6')\n",
    "    dic['direction10'] = dic.pop('Combination - Direction - 10')\n",
    "\n",
    "\n",
    "fig, axs = plt.subplots(3, 3, figsize=(20, 20))\n",
    "axs[0, 0].set_title('This authentication method was simple to understand.')\n",
    "axs[0, 0].bar(list(perception_dict[0].keys()),\n",
    "              list(perception_dict[0].values()))\n",
    "axs[0, 1].set_title('This authentication method was enjoyable to use.')\n",
    "axs[0, 1].bar(list(perception_dict[1].keys()),\n",
    "              list(perception_dict[1].values()))\n",
    "axs[0, 2].set_title('This authentication method was easy to use.')\n",
    "axs[0, 2].bar(list(perception_dict[2].keys()),\n",
    "              list(perception_dict[2].values()))\n",
    "axs[1, 0].set_title(\n",
    "    'I would consider using this authentication method on my own smartwatch.')\n",
    "axs[1, 0].bar(list(perception_dict[3].keys()),\n",
    "              list(perception_dict[3].values()))\n",
    "axs[1, 1].set_title(\n",
    "    'I would get annoyed using this authentication method regularly.')\n",
    "axs[1, 1].bar(list(perception_dict[4].keys()),\n",
    "              list(perception_dict[4].values()))\n",
    "axs[1, 2].set_title('I think this authentication method has a high level of security.')\n",
    "axs[1, 2].bar(list(perception_dict[5].keys()),\n",
    "              list(perception_dict[5].values()))\n",
    "axs[2, 0].set_title(\n",
    "    'I think this authentication method has a high level of security (after).')\n",
    "axs[2, 0].bar(list(perception_dict[6].keys()),\n",
    "              list(perception_dict[6].values()))\n",
    "\n",
    "methods = ['PIN','Pattern', 'Combination - Tap - 6', 'Combination - Tap - 10', 'Combination - Direction - 6', 'Combination - Direction - 10']\n",
    "for i in range(1,9):\n",
    "    if i==7:\n",
    "        continue;\n",
    "    for method in methods:\n",
    "        print(method +' =', end=' ')\n",
    "        print(get_std_deviations(method, axis=i), end=', ')\n",
    "    print('\\n ====================================================' * 3)"
   ]
  },
  {
   "cell_type": "code",
   "execution_count": 60,
   "metadata": {},
   "outputs": [
    {
     "name": "stdout",
     "output_type": "stream",
     "text": [
      "THIS AUTHENTICATION METHOD WAS SIMPLE TO UNDERSTAND:\n",
      "\n",
      "               Anova\n",
      "====================================\n",
      "       F Value Num DF  Den DF Pr > F\n",
      "------------------------------------\n",
      "method  6.0110 5.0000 70.0000 0.0001\n",
      "====================================\n",
      "\n",
      "THIS AUTHENTICATION METHOD WAS ENJOYABLE TO USE:\n",
      "\n",
      "               Anova\n",
      "====================================\n",
      "       F Value Num DF  Den DF Pr > F\n",
      "------------------------------------\n",
      "method  9.3526 5.0000 70.0000 0.0000\n",
      "====================================\n",
      "\n",
      "THIS AUTHENTICATION METHOD WAS EASY TO USE:\n",
      "\n",
      "               Anova\n",
      "====================================\n",
      "       F Value Num DF  Den DF Pr > F\n",
      "------------------------------------\n",
      "method 24.2368 5.0000 70.0000 0.0000\n",
      "====================================\n",
      "\n",
      "I WOULD CONSIDER USING THIS AUTHENTICATION METHOD ON MY OWN SMARTWATCH:\n",
      "\n",
      "               Anova\n",
      "====================================\n",
      "       F Value Num DF  Den DF Pr > F\n",
      "------------------------------------\n",
      "method 16.5365 5.0000 70.0000 0.0000\n",
      "====================================\n",
      "\n",
      "I WOULD GET ANNOYED USING THIS AUTHENTICATION METHOD REGULARLY:\n",
      "\n",
      "               Anova\n",
      "====================================\n",
      "       F Value Num DF  Den DF Pr > F\n",
      "------------------------------------\n",
      "method 15.8820 5.0000 70.0000 0.0000\n",
      "====================================\n",
      "\n",
      "I THINK THIS AUTHENTICATION METHOD HAS A HIGH LEVEL OF SECURITY:\n",
      "\n",
      "               Anova\n",
      "====================================\n",
      "       F Value Num DF  Den DF Pr > F\n",
      "------------------------------------\n",
      "method  1.9409 5.0000 70.0000 0.0984\n",
      "====================================\n",
      "\n",
      "I THINK THIS AUTHENTICATION METHOD HAS A HIGH LEVEL OF SECURITY(AFTER):\n",
      "\n",
      "               Anova\n",
      "====================================\n",
      "       F Value Num DF  Den DF Pr > F\n",
      "------------------------------------\n",
      "method  4.1405 5.0000 70.0000 0.0024\n",
      "====================================\n",
      "\n"
     ]
    }
   ],
   "source": [
    "df = pd.read_csv('docs/user_perception.csv')\n",
    "print('THIS AUTHENTICATION METHOD WAS SIMPLE TO UNDERSTAND:\\n')\n",
    "print(AnovaRM(df, 'This authentication method was simple to understand.',\n",
    "      subject='ParticipantNumber', within=['method'], aggregate_func=median).fit())\n",
    "print('THIS AUTHENTICATION METHOD WAS ENJOYABLE TO USE:\\n')\n",
    "print(AnovaRM(df, 'This authentication method was enjoyable to use.',\n",
    "      subject='ParticipantNumber', within=['method'], aggregate_func=median).fit())\n",
    "print('THIS AUTHENTICATION METHOD WAS EASY TO USE:\\n')\n",
    "print(AnovaRM(df, 'This authentication method was easy to use.',\n",
    "      subject='ParticipantNumber', within=['method'], aggregate_func=median).fit())\n",
    "print('I WOULD CONSIDER USING THIS AUTHENTICATION METHOD ON MY OWN SMARTWATCH:\\n')\n",
    "print(AnovaRM(df, 'I would consider using this authentication method on my own smartwatch.',\n",
    "      subject='ParticipantNumber', within=['method'], aggregate_func=median).fit())\n",
    "print('I WOULD GET ANNOYED USING THIS AUTHENTICATION METHOD REGULARLY:\\n')\n",
    "print(AnovaRM(df, 'I would get annoyed using this authentication method regularly.',\n",
    "      subject='ParticipantNumber', within=['method'], aggregate_func=median).fit())\n",
    "print('I THINK THIS AUTHENTICATION METHOD HAS A HIGH LEVEL OF SECURITY:\\n')\n",
    "print(AnovaRM(df, 'I think this authentication method has a high level of security.',\n",
    "      subject='ParticipantNumber', within=['method'], aggregate_func=median).fit())\n",
    "print('I THINK THIS AUTHENTICATION METHOD HAS A HIGH LEVEL OF SECURITY(AFTER):\\n')\n",
    "a = AnovaRM(df, 'I think this authentication method has a high level of security (after).',\n",
    "      'ParticipantNumber', within=['method'], aggregate_func=median).fit()\n",
    "print(a)"
   ]
  }
 ],
 "metadata": {
  "interpreter": {
   "hash": "916dbcbb3f70747c44a77c7bcd40155683ae19c65e1c03b4aa3499c5328201f1"
  },
  "kernelspec": {
   "display_name": "Python 3.9.7 64-bit",
   "language": "python",
   "name": "python3"
  },
  "language_info": {
   "codemirror_mode": {
    "name": "ipython",
    "version": 3
   },
   "file_extension": ".py",
   "mimetype": "text/x-python",
   "name": "python",
   "nbconvert_exporter": "python",
   "pygments_lexer": "ipython3",
   "version": "3.9.7"
  },
  "orig_nbformat": 4
 },
 "nbformat": 4,
 "nbformat_minor": 2
}
