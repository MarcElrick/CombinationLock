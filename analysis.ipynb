{
 "cells": [
  {
   "cell_type": "markdown",
   "metadata": {},
   "source": [
    "## Data Analysis\n",
    "This notebook will be used to analyse data from Combination Lock experiments."
   ]
  },
  {
   "cell_type": "markdown",
   "metadata": {},
   "source": [
    "### Install Libraries"
   ]
  },
  {
   "cell_type": "code",
   "execution_count": 1,
   "metadata": {},
   "outputs": [],
   "source": [
    "%%capture\n",
    "\n",
    "%pip install matplotlib\n",
    "%pip install pandas statsmodels\n",
    "import json\n",
    "import glob\n",
    "import matplotlib.pyplot as plt\n",
    "from scipy.stats import f_oneway\n",
    "%matplotlib inline\n",
    "import matplotlib as mpl\n",
    "import pandas as pd\n",
    "from statsmodels.stats.anova import AnovaRM\n"
   ]
  },
  {
   "cell_type": "markdown",
   "metadata": {},
   "source": [
    "### Read in Files"
   ]
  },
  {
   "cell_type": "code",
   "execution_count": 2,
   "metadata": {},
   "outputs": [],
   "source": [
    "log_dir = './docs/evaluation-logs/*'\n",
    "filepaths = glob.glob(log_dir)\n",
    "\n",
    "files = []\n",
    "\n",
    "for path in filepaths:\n",
    "    with open(path) as f:\n",
    "        files.append(json.load(f)['data'])"
   ]
  },
  {
   "cell_type": "markdown",
   "metadata": {},
   "source": [
    "### Extract Data Across Participants into Single Dict"
   ]
  },
  {
   "cell_type": "code",
   "execution_count": 3,
   "metadata": {},
   "outputs": [
    {
     "name": "stdout",
     "output_type": "stream",
     "text": [
      "66\n"
     ]
    }
   ],
   "source": [
    "fullDict = {}\n",
    "\n",
    "\n",
    "for f in files:\n",
    "    fullDict = fullDict | f\n",
    "\n",
    "print(len(fullDict))"
   ]
  },
  {
   "cell_type": "markdown",
   "metadata": {},
   "source": [
    "### Traverse entire dataset, adding each list to the appropraite method list"
   ]
  },
  {
   "cell_type": "code",
   "execution_count": 4,
   "metadata": {},
   "outputs": [],
   "source": [
    "methodsDict = {'tap6':[], 'tap10':[], 'direction6':[], 'direction10':[], 'pin':[],'pattern':[]}\n",
    "\n",
    "for key in fullDict.keys():\n",
    "    method = fullDict[key][0]['method']\n",
    "    numTicks = fullDict[key][0]['numTicks']\n",
    "\n",
    "    if method == 'tap':\n",
    "        if numTicks == '6':\n",
    "            methodsDict['tap6'] += fullDict[key]\n",
    "        else:\n",
    "            methodsDict['tap10'] += fullDict[key]\n",
    "    elif  method == 'direction':\n",
    "        if numTicks == '6':\n",
    "            methodsDict['direction6'] += fullDict[key]\n",
    "        else:\n",
    "            methodsDict['direction10'] += fullDict[key]\n",
    "    elif method == 'PATTERN':\n",
    "        methodsDict['pattern'] += fullDict[key]\n",
    "    elif method == 'PIN':\n",
    "        methodsDict['pin'] += fullDict[key]\n",
    "    \n",
    "# Remove Abortions\n",
    "for key in methodsDict:\n",
    "    methodsDict[key] = list(filter(lambda x:x['endState'] != 'ABORTED', methodsDict[key]))"
   ]
  },
  {
   "cell_type": "markdown",
   "metadata": {},
   "source": [
    "### Graph Average Success Rate For Each Method"
   ]
  },
  {
   "cell_type": "code",
   "execution_count": 5,
   "metadata": {},
   "outputs": [
    {
     "data": {
      "image/png": "[encoded data removed]",
      "text/plain": [
       "<Figure size 504x360 with 1 Axes>"
      ]
     },
     "metadata": {
      "needs_background": "light"
     },
     "output_type": "display_data"
    }
   ],
   "source": [
    "errorRates = {}\n",
    "\n",
    "def computeErrorRate(lst):\n",
    "    errors = len(list(filter(lambda x: x['endState'] == 'FAILURE', lst)))\n",
    "    return (errors / len(lst)) * 100\n",
    "\n",
    "for method in methodsDict:\n",
    "    errorRates[method] = computeErrorRate(methodsDict[method])\n",
    "\n",
    "\n",
    "fig, ax = plt.subplots(figsize=(7,5))\n",
    "ax.set_ylabel('Error (%)')\n",
    "ax.set_xlabel('Condition')\n",
    "\n",
    "x = list(errorRates.keys())\n",
    "y = list(errorRates.values())\n",
    "\n",
    "\n",
    "rects = ax.bar(x, y, 0.5)\n",
    "\n",
    "for rect in rects:\n",
    "    height = rect.get_height()\n",
    "    ax.text(rect.get_x() + rect.get_width()/2., 1.01*height, '%d' % round(height),  ha='center', va='bottom' , color='blue', fontweight='bold')"
   ]
  },
  {
   "cell_type": "markdown",
   "metadata": {},
   "source": [
    "### Graph Average Authentication Time for Successful Sessions"
   ]
  },
  {
   "cell_type": "code",
   "execution_count": 6,
   "metadata": {},
   "outputs": [
    {
     "data": {
      "image/png": "[encoded data removed]",
      "text/plain": [
       "<Figure size 504x432 with 1 Axes>"
      ]
     },
     "metadata": {
      "needs_background": "light"
     },
     "output_type": "display_data"
    }
   ],
   "source": [
    "def computeAverageSuccessTime(lst):\n",
    "    successfulAuths = list(filter(lambda x: x['endState']=='SUCCESS', lst))\n",
    "    total = 0\n",
    "    for val in lst:\n",
    "        total+= val['elapsedTimeInMilliseconds']\n",
    "    return total/len(successfulAuths)\n",
    "successRates = {}\n",
    "for method in methodsDict:\n",
    "    successRates[method] = computeAverageSuccessTime(methodsDict[method])\n",
    "\n",
    "fig, ax = plt.subplots(figsize=(7,6))\n",
    "ax.set_ylabel('Authentication Time (ms)')\n",
    "ax.set_xlabel('Condition')\n",
    "ax.set_title('Average Duration of Successful Authentication')\n",
    "\n",
    "x = list(successRates.keys())\n",
    "y = list(successRates.values())\n",
    "rects = ax.bar(x, y, 0.5)\n",
    "\n",
    "for rect in rects:\n",
    "    height = rect.get_height()\n",
    "    ax.text(rect.get_x() + rect.get_width()/2., 1.01*height, '%d' % round(height),  ha='center', va='bottom', color='blue', fontweight='bold')"
   ]
  },
  {
   "cell_type": "markdown",
   "metadata": {},
   "source": [
    "### Time Distribution"
   ]
  },
  {
   "cell_type": "code",
   "execution_count": 7,
   "metadata": {},
   "outputs": [
    {
     "data": {
      "image/png": "[encoded data removed]",
      "text/plain": [
       "<Figure size 1440x720 with 6 Axes>"
      ]
     },
     "metadata": {
      "needs_background": "light"
     },
     "output_type": "display_data"
    }
   ],
   "source": [
    "successfulAuths = methodsDict.copy()\n",
    "\n",
    "for item in successfulAuths:\n",
    "    successfulAuths[item] = list(filter(lambda x: x['endState']=='SUCCESS', successfulAuths[item]))\n",
    "successfulAuthsTimeList = list(map(lambda x: {x:list(map(lambda y: y['elapsedTimeInMilliseconds'], successfulAuths[x]))}, successfulAuths))\n",
    "\n",
    "fig, axs = plt.subplots(2, 3, sharey=True, figsize=(20,10))\n",
    "fig.suptitle('Distribution of Authentication Times for Each Method')\n",
    "\n",
    "n_bins = 25\n",
    "\n",
    "\n",
    "for i in range(0,2):\n",
    "    for j in range(0,3):\n",
    "        axs[i,j].hist(successfulAuthsTimeList[i+j].values(), bins=n_bins)\n",
    "        axs[i,j].set_title(list(successfulAuthsTimeList[i+j].keys())[0])\n",
    "        axs[i,j].set_xlabel('Time to Authenticate (ms)')\n",
    "        axs[i,j].set_ylabel('Number of Participants')\n"
   ]
  },
  {
   "cell_type": "markdown",
   "metadata": {},
   "source": [
    "### Statistical Tests - Repeated Measures One-Way ANOVA"
   ]
  },
  {
   "cell_type": "code",
   "execution_count": 8,
   "metadata": {},
   "outputs": [
    {
     "name": "stdout",
     "output_type": "stream",
     "text": [
      "REPEATED MEASURES ANOVA ON SUCCESS RATE:\n",
      "\n",
      "               Anova\n",
      "====================================\n",
      "       F Value Num DF  Den DF Pr > F\n",
      "------------------------------------\n",
      "method 74.5299 5.0000 50.0000 0.0000\n",
      "====================================\n",
      "\n"
     ]
    }
   ],
   "source": [
    "# Parses files and puts data in a format for statistical tests\n",
    "\n",
    "\n",
    "def getMethod(auth):\n",
    "    if auth['method'] == 'tap':\n",
    "        if auth['numTicks'] == '6':\n",
    "            return 'tap6'\n",
    "        else:\n",
    "            return 'tap10'\n",
    "    elif auth['method'] == 'direction':\n",
    "        if auth['numTicks'] == '6':\n",
    "            return 'direction6'\n",
    "        else:\n",
    "            return 'direction10'\n",
    "    elif auth['method'] == 'PATTERN':\n",
    "        return 'pattern'\n",
    "    elif auth['method'] == 'PIN':\n",
    "        return 'PIN'\n",
    "\n",
    "def fileToTable(i,f, end=None):\n",
    "    totalRows=[]\n",
    "    for key in f:\n",
    "        for auth in f[key]:\n",
    "            if auth['endState'] != 'ABORTED':\n",
    "                if end==None:\n",
    "                    totalRows.append([i, getMethod(auth), auth['elapsedTimeInMilliseconds'], auth['endState'], 'null'])\n",
    "                elif auth['endState'] == end:\n",
    "                        totalRows.append([i, getMethod(auth), auth['elapsedTimeInMilliseconds'], auth['endState'], 'null'])\n",
    "\n",
    "    return totalRows\n",
    "\n",
    "\n",
    "def createFileTable(end=None):\n",
    "    fileTable = [['participant', 'method', 'elapsedTimeInMilliseconds', 'endState', 'errors']]\n",
    "    for index, file in enumerate(files):\n",
    "        fileTable += fileToTable(index, file, end)\n",
    "    return fileTable\n",
    "\n",
    "totalFileTable = createFileTable()\n",
    "successFileTable = createFileTable(end='SUCCESS')\n",
    "failureFileTable = createFileTable(end='FAILURE')\n",
    "\n",
    "\n",
    "def createTempFileFromTable(fileName, table):\n",
    "    with open(fileName, 'w') as f:\n",
    "        for line in table:\n",
    "            f.write(','.join([str(line[0]), line[1], str(line[2]), str(line[3]), str(line[4]), '\\n']))\n",
    "\n",
    "\n",
    "def mean(lst):\n",
    "    return sum(lst)/len(lst)\n",
    "\n",
    "createTempFileFromTable('successTemp.csv', successFileTable)\n",
    "createTempFileFromTable('failureTemp.csv', failureFileTable)\n",
    "createTempFileFromTable('totalTemp.csv', totalFileTable)\n",
    "\n",
    "df = pd.read_csv('successTemp.csv')\n",
    "print('REPEATED MEASURES ANOVA ON SUCCESS RATE:\\n')\n",
    "print(AnovaRM(df, 'elapsedTimeInMilliseconds', 'participant', within=['method'], aggregate_func=mean).fit())\n",
    "\n",
    "def createErrorsFile():\n",
    "    with open('errors.csv', 'w') as f:\n",
    "        f.write('participant', 'method', 'errors')\n",
    "        \n",
    "\n",
    "# meanErrorRatesFromFile('failureTemp.csv')"
   ]
  },
  {
   "cell_type": "code",
   "execution_count": 9,
   "metadata": {},
   "outputs": [],
   "source": [
    "\n",
    "\n",
    "# print(f'ANOVA: Number of Errors\\nF-statistic: {f_stat_errorCount.statistic}\\np-value: {f_stat_errorCount.pvalue}\\n\\n')\n",
    "# print(f'ANOVA: Successful Authentication Times\\nF-statistic: {f_stat_authTime.statistic}\\np-value: {f_stat_authTime.pvalue}')"
   ]
  }
 ],
 "metadata": {
  "interpreter": {
   "hash": "916dbcbb3f70747c44a77c7bcd40155683ae19c65e1c03b4aa3499c5328201f1"
  },
  "kernelspec": {
   "display_name": "Python 3.9.7 64-bit",
   "language": "python",
   "name": "python3"
  },
  "language_info": {
   "codemirror_mode": {
    "name": "ipython",
    "version": 3
   },
   "file_extension": ".py",
   "mimetype": "text/x-python",
   "name": "python",
   "nbconvert_exporter": "python",
   "pygments_lexer": "ipython3",
   "version": "3.9.7"
  },
  "orig_nbformat": 4
 },
 "nbformat": 4,
 "nbformat_minor": 2
}
