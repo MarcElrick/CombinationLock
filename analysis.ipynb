{
 "cells": [
  {
   "cell_type": "markdown",
   "metadata": {},
   "source": [
    "## Data Analysis\n",
    "This notebook will be used to analyse data from Combination Lock experiments."
   ]
  },
  {
   "cell_type": "markdown",
   "metadata": {},
   "source": [
    "### Install Libraries"
   ]
  },
  {
   "cell_type": "code",
   "execution_count": 78,
   "metadata": {},
   "outputs": [],
   "source": [
    "%%capture\n",
    "\n",
    "%pip install matplotlib\n",
    "import json\n",
    "import glob"
   ]
  },
  {
   "cell_type": "markdown",
   "metadata": {},
   "source": [
    "### Read in Files"
   ]
  },
  {
   "cell_type": "code",
   "execution_count": 79,
   "metadata": {},
   "outputs": [],
   "source": [
    "log_dir = './docs/evaluation-logs/*'\n",
    "filepaths = glob.glob(log_dir)\n",
    "\n",
    "files = []\n",
    "\n",
    "for path in filepaths:\n",
    "    with open(path) as f:\n",
    "        files.append(json.load(f)['data'])"
   ]
  },
  {
   "cell_type": "markdown",
   "metadata": {},
   "source": [
    "### Extract Data Across Participants into Single Dict"
   ]
  },
  {
   "cell_type": "code",
   "execution_count": 80,
   "metadata": {},
   "outputs": [
    {
     "name": "stdout",
     "output_type": "stream",
     "text": [
      "36\n"
     ]
    }
   ],
   "source": [
    "fullDict = {}\n",
    "\n",
    "\n",
    "for f in files:\n",
    "    fullDict = fullDict | f\n",
    "\n",
    "print(len(fullDict))"
   ]
  },
  {
   "cell_type": "markdown",
   "metadata": {},
   "source": [
    "### Traverse entire dataset, adding each list to the appropraite method list"
   ]
  },
  {
   "cell_type": "code",
   "execution_count": 82,
   "metadata": {},
   "outputs": [],
   "source": [
    "methodsDict = {'tap6':[], 'tap10':[], 'direction6':[], 'direction10':[], 'pin':[],'pattern':[]}\n",
    "\n",
    "for key in fullDict.keys():\n",
    "    method = fullDict[key][0]['method']\n",
    "    numTicks = fullDict[key][0]['numTicks']\n",
    "\n",
    "    if method == 'tap':\n",
    "        if numTicks == '6':\n",
    "            methodsDict['tap6'] += fullDict[key]\n",
    "        else:\n",
    "            methodsDict['tap10'] += fullDict[key]\n",
    "    elif  method == 'direction':\n",
    "        if numTicks == '6':\n",
    "            methodsDict['direction6'] += fullDict[key]\n",
    "        else:\n",
    "            methodsDict['direction10'] += fullDict[key]\n",
    "    elif method == 'PATTERN':\n",
    "        methodsDict['pattern'] += fullDict[key]\n",
    "    elif method == 'PIN':\n",
    "        methodsDict['pin'] += fullDict[key]\n",
    "    \n",
    "# Remove Abortions\n",
    "for key in methodsDict:\n",
    "    methodsDict[key] = list(filter(lambda x:x['endState'] != 'ABORTED', methodsDict[key]))"
   ]
  },
  {
   "cell_type": "markdown",
   "metadata": {},
   "source": [
    "### Graph Average Success Rate For Each Method"
   ]
  },
  {
   "cell_type": "code",
   "execution_count": 89,
   "metadata": {},
   "outputs": [
    {
     "name": "stdout",
     "output_type": "stream",
     "text": [
      "{'tap6': 1.8181818181818181, 'tap10': 4.424778761061947, 'direction6': 31.645569620253166, 'direction10': 32.5, 'pin': 5.263157894736842, 'pattern': 12.195121951219512}\n"
     ]
    }
   ],
   "source": [
    "successRates = {}\n",
    "\n",
    "\n",
    "def computeErrorRate(lst):\n",
    "    errors = len(list(filter(lambda x: x['endState'] == 'FAILURE', lst)))\n",
    "    return (errors / len(lst)) * 100\n",
    "\n",
    "for method in methodsDict:\n",
    "    successRates[method] = computeErrorRate(methodsDict[method])"
   ]
  }
 ],
 "metadata": {
  "interpreter": {
   "hash": "916dbcbb3f70747c44a77c7bcd40155683ae19c65e1c03b4aa3499c5328201f1"
  },
  "kernelspec": {
   "display_name": "Python 3.9.7 64-bit",
   "language": "python",
   "name": "python3"
  },
  "language_info": {
   "codemirror_mode": {
    "name": "ipython",
    "version": 3
   },
   "file_extension": ".py",
   "mimetype": "text/x-python",
   "name": "python",
   "nbconvert_exporter": "python",
   "pygments_lexer": "ipython3",
   "version": "3.9.7"
  },
  "orig_nbformat": 4
 },
 "nbformat": 4,
 "nbformat_minor": 2
}
